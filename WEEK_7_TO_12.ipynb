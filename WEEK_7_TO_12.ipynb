{
 "cells": [
  {
   "cell_type": "markdown",
   "id": "5cbbb400",
   "metadata": {},
   "source": [
    "# Data Handling in Python "
   ]
  },
  {
   "cell_type": "markdown",
   "id": "851ab828",
   "metadata": {},
   "source": [
    "# -------------------------------------------------------------------------------"
   ]
  },
  {
   "cell_type": "markdown",
   "id": "507ccbb6",
   "metadata": {},
   "source": [
    "# a) Text file "
   ]
  },
  {
   "cell_type": "code",
   "execution_count": 1,
   "id": "d1347951",
   "metadata": {},
   "outputs": [
    {
     "name": "stdout",
     "output_type": "stream",
     "text": [
      "\n",
      "What do you study \n",
      "This line is a part of with statement\n",
      "This text will be appended to the last of the file\n",
      "first line: Hi everyone!\n",
      "second line: This is a multiline text\n",
      "Third line: This is the data handling chapter\n",
      "\n",
      "<class 'str'>\n"
     ]
    }
   ],
   "source": [
    "# Reading a file \n",
    "\n",
    "f = open('myfile.txt','r') \n",
    "text = f.read()\n",
    "print(text)\n",
    "print(type(text))\n",
    "f.close()\n"
   ]
  },
  {
   "cell_type": "code",
   "execution_count": 2,
   "id": "a6398517",
   "metadata": {},
   "outputs": [
    {
     "name": "stdout",
     "output_type": "stream",
     "text": [
      "\n",
      "What do you study \n",
      "This line is a part of with statement\n",
      "This text will be appended to the last of the file\n",
      "first line: Hi everyone!\n",
      "second line: This is a multiline text\n",
      "Third line: This is the data handling chapter\n",
      "\n"
     ]
    }
   ],
   "source": [
    "# With method of reading a file \n",
    "# Note: using with method closing a file is not mandatory \n",
    "\n",
    "with open('myfile.txt', 'r') as file:\n",
    "    print(file.read())\n"
   ]
  },
  {
   "cell_type": "code",
   "execution_count": 3,
   "id": "b0dcd5c2",
   "metadata": {},
   "outputs": [],
   "source": [
    "# Writing a file \n",
    "# Note: Writing a file overwrite on the existing data i.e, remove the data before writing \n",
    "# Note: If the file doesn't exist, it would create a new file \n",
    "\n",
    "f   = open('myfile2.txt','w') \n",
    "f.write('HOW ARE YOU!')\n",
    "f.close()\n",
    "\n"
   ]
  },
  {
   "cell_type": "code",
   "execution_count": 4,
   "id": "2392b996",
   "metadata": {},
   "outputs": [],
   "source": [
    "# With statement for Writing \n",
    "\n",
    "with open('myfile.txt' ,'w') as file:\n",
    "    file.write('\\nWhat do you study \\nThis line is a part of with statement')"
   ]
  },
  {
   "cell_type": "code",
   "execution_count": 5,
   "id": "6ed3c6e4",
   "metadata": {},
   "outputs": [],
   "source": [
    "# Appending to a file\n",
    "\n",
    "f = open('myfile.txt','a')\n",
    "f.write('\\nThis text will be appended to the last of the file')\n",
    "f.close()"
   ]
  },
  {
   "cell_type": "code",
   "execution_count": 6,
   "id": "1b64e652",
   "metadata": {},
   "outputs": [
    {
     "name": "stdout",
     "output_type": "stream",
     "text": [
      "\n",
      "What do you study \n",
      "This line is a part of with statement\n",
      "This text will be appended to the last of the file\n"
     ]
    }
   ],
   "source": [
    "# Checking the appending of the file \n",
    "\n",
    "f = open('myfile.txt','r')\n",
    "print(f.read())\n"
   ]
  },
  {
   "cell_type": "code",
   "execution_count": 7,
   "id": "0553eedc",
   "metadata": {},
   "outputs": [],
   "source": [
    "# Multilines text in a file \n",
    "\n",
    "lines = ['\\nfirst line: Hi everyone!\\n', 'second line: This is a multiline text\\n','Third line: This is the data handling chapter\\n']\n",
    "\n",
    "with open('myfile.txt','a') as file:\n",
    "    file.writelines(lines)\n"
   ]
  },
  {
   "cell_type": "code",
   "execution_count": 8,
   "id": "413ef383",
   "metadata": {},
   "outputs": [],
   "source": [
    "# Coying the data of a file \n",
    "# myfile.txt----->copy------->destination.txt\n",
    "\n",
    "with open('myfile.txt','r') as source_file:\n",
    "    content = source_file.read()\n",
    "with open('destination.txt','w') as destination_file:\n",
    "    destination_file.write(content)           \n"
   ]
  },
  {
   "cell_type": "code",
   "execution_count": 9,
   "id": "ab41d11a",
   "metadata": {},
   "outputs": [
    {
     "name": "stdout",
     "output_type": "stream",
     "text": [
      "\n",
      "What do you study \n",
      "This line is a part of with statement\n",
      "This text will be appended to the last of the file\n",
      "first line: Hi everyone!\n",
      "second line: This is a multiline text\n",
      "Third line: This is the data handling chapter\n",
      "\n"
     ]
    }
   ],
   "source": [
    "# verification of the copied text file \n",
    "\n",
    "with open('destination.txt','r') as destination_file:\n",
    "    print(destination_file.read())"
   ]
  },
  {
   "cell_type": "code",
   "execution_count": 10,
   "id": "b2ff4cfa",
   "metadata": {},
   "outputs": [
    {
     "name": "stdout",
     "output_type": "stream",
     "text": [
      "Hello python\n",
      "This is a new line\n",
      "\n"
     ]
    }
   ],
   "source": [
    "# Reading and writing at the same time using w+ method \n",
    "\n",
    "with open('myfile2.txt','w+') as file:\n",
    "    file.write('Hello python\\n')\n",
    "    file.write('This is a new line\\n')\n",
    "\n",
    "    file.seek(0)                     # Seek function bring the cursor back to the top for reading the file \n",
    "    content = file.read()\n",
    "    print(content)"
   ]
  },
  {
   "cell_type": "code",
   "execution_count": 11,
   "id": "3fdc3381",
   "metadata": {},
   "outputs": [
    {
     "name": "stdout",
     "output_type": "stream",
     "text": [
      "The number found\n"
     ]
    }
   ],
   "source": [
    "# Application: Finding the number from a file \n",
    "\n",
    "f = open('destination2.txt','r')\n",
    "flag = 0\n",
    "s = '0'\n",
    "while(s!=''):\n",
    "    s = f.readline()\n",
    "    if (s!= ''):\n",
    "        n = int(s)\n",
    "        if(n == 77):\n",
    "            print('The number found')\n",
    "            flag = 1\n",
    "            break \n",
    "if flag ==0:\n",
    "    print('The number was not found')\n"
   ]
  },
  {
   "cell_type": "code",
   "execution_count": 12,
   "id": "4db5592e",
   "metadata": {},
   "outputs": [
    {
     "name": "stdout",
     "output_type": "stream",
     "text": [
      "He\n",
      "llo\n"
     ]
    },
    {
     "ename": "ValueError",
     "evalue": "I/O operation on closed file.",
     "output_type": "error",
     "traceback": [
      "\u001b[31m---------------------------------------------------------------------------\u001b[39m",
      "\u001b[31mValueError\u001b[39m                                Traceback (most recent call last)",
      "\u001b[36mCell\u001b[39m\u001b[36m \u001b[39m\u001b[32mIn[12]\u001b[39m\u001b[32m, line 13\u001b[39m\n\u001b[32m      8\u001b[39m f.close()\n\u001b[32m     11\u001b[39m \u001b[38;5;66;03m# Moving the head(cursor) using the seek method \u001b[39;00m\n\u001b[32m---> \u001b[39m\u001b[32m13\u001b[39m \u001b[43mf\u001b[49m\u001b[43m.\u001b[49m\u001b[43mseek\u001b[49m\u001b[43m(\u001b[49m\u001b[32;43m8\u001b[39;49m\u001b[43m)\u001b[49m                   \u001b[38;5;66;03m# Moves the cursor to the 8th index \u001b[39;00m\n\u001b[32m     14\u001b[39m s = f.read(\u001b[32m2\u001b[39m)\n\u001b[32m     15\u001b[39m \u001b[38;5;28mprint\u001b[39m(s)\n",
      "\u001b[31mValueError\u001b[39m: I/O operation on closed file."
     ]
    }
   ],
   "source": [
    "# Seek and read function \n",
    "\n",
    "f = open('myfile2.txt','r')\n",
    "s = f.read(2)                # Will print 01 only from the '0123456789'\n",
    "print(s)\n",
    "b = f.read(3)                # Will read 234 only from the '0123456789' because now the cursor is at '2'\n",
    "print(b)\n",
    "f.close()\n",
    "\n",
    "\n",
    "# Moving the head(cursor) using the seek method \n",
    "\n",
    "f.seek(8)                   # Moves the cursor to the 8th index \n",
    "s = f.read(2)\n",
    "print(s)\n",
    "f.close()\n",
    "\n",
    "f.seek(0)                   # Moves the head back to the 0th index  \n",
    "s= f.read(4)\n",
    "print(s)\n",
    "f.close()\n"
   ]
  },
  {
   "cell_type": "markdown",
   "id": "a7ea119f",
   "metadata": {},
   "source": [
    "# b) Binary file "
   ]
  },
  {
   "cell_type": "code",
   "execution_count": null,
   "id": "7af64eea",
   "metadata": {},
   "outputs": [],
   "source": [
    "# Writing in binary file \n",
    "\n",
    "data = b'\\x00\\x01\\x02\\x03'   # bytes hexacharacter \n",
    "with open('myfile.bin','wb') as file:\n",
    "    file.write(data)"
   ]
  },
  {
   "cell_type": "code",
   "execution_count": null,
   "id": "087e0528",
   "metadata": {},
   "outputs": [
    {
     "name": "stdout",
     "output_type": "stream",
     "text": [
      "b'\\x00\\x01\\x02\\x03'\n"
     ]
    }
   ],
   "source": [
    "# Reading a binary file\n",
    "\n",
    "with open('myfile.bin','rb') as file:\n",
    "    print(file.read())"
   ]
  },
  {
   "cell_type": "markdown",
   "id": "14d30190",
   "metadata": {},
   "source": [
    "# File path "
   ]
  },
  {
   "cell_type": "code",
   "execution_count": null,
   "id": "9476e663",
   "metadata": {},
   "outputs": [
    {
     "name": "stdout",
     "output_type": "stream",
     "text": [
      "current working directory is d:\\Kaif\\Notebook\n"
     ]
    }
   ],
   "source": [
    "# Getting the current working directory(cwd)\n",
    "\n",
    "import os \n",
    "cwd = os.getcwd()\n",
    "print(f'current working directory is {cwd}')\n",
    "\n"
   ]
  },
  {
   "cell_type": "code",
   "execution_count": 25,
   "id": "72a66a13",
   "metadata": {},
   "outputs": [
    {
     "name": "stdout",
     "output_type": "stream",
     "text": [
      "Directory 'Code' created\n"
     ]
    }
   ],
   "source": [
    "# Create a new directory \n",
    "\n",
    "new_directory = 'Code'\n",
    "os.mkdir(new_directory)\n",
    "print(f\"Directory '{new_directory}' created\")"
   ]
  },
  {
   "cell_type": "code",
   "execution_count": 28,
   "id": "f79a2105",
   "metadata": {},
   "outputs": [
    {
     "name": "stdout",
     "output_type": "stream",
     "text": [
      "['Code', 'DATA_STRUCTURE.py', 'destination.txt', 'destination2.txt', 'myfile.bin', 'myfile.txt', 'myfile2.txt', 'QUESTIONS.py', 'WEEK_1.py', 'WEEK_2.py', 'WEEK_3.py', 'WEEK_4.py', 'WEEK_5.py', 'WEEK_6.py', 'WEEK_7_TO_12.ipynb']\n"
     ]
    }
   ],
   "source": [
    "# listing files in a directory \n",
    "\n",
    "item = os.listdir(\".\")\n",
    "print(item)"
   ]
  },
  {
   "cell_type": "code",
   "execution_count": null,
   "id": "7750967f",
   "metadata": {},
   "outputs": [
    {
     "name": "stdout",
     "output_type": "stream",
     "text": [
      "folder1\\myfile.txt\n"
     ]
    }
   ],
   "source": [
    "# Joining paths: relative path (constructing file path dynamically)\n",
    "\n",
    "dir_name = 'folder1'\n",
    "filename = 'myfile.txt'\n",
    "full_path = os.path.join(dir_name,filename)\n",
    "print(full_path)\n",
    "\n"
   ]
  },
  {
   "cell_type": "code",
   "execution_count": 30,
   "id": "75ef2bce",
   "metadata": {},
   "outputs": [
    {
     "name": "stdout",
     "output_type": "stream",
     "text": [
      "d:\\Kaif\\Notebook\\folder1\\myfile.txt\n"
     ]
    }
   ],
   "source": [
    "# Joining paths: complete absolute path\n",
    "\n",
    "dir_name = 'folder1'\n",
    "filename = 'myfile.txt'\n",
    "full_path = os.path.join(os.getcwd(),dir_name,filename)\n",
    "print(full_path)"
   ]
  },
  {
   "cell_type": "code",
   "execution_count": 31,
   "id": "5a480e14",
   "metadata": {},
   "outputs": [
    {
     "name": "stdout",
     "output_type": "stream",
     "text": [
      "the path example1.txt does not exist\n"
     ]
    }
   ],
   "source": [
    "# Checking if the path exists or not \n",
    "\n",
    "path = 'example1.txt'\n",
    "if os.path.exists(path):\n",
    "    print(f'the path {path} exists')\n",
    "else:\n",
    "    print(f'the path {path} does not exist')\n"
   ]
  },
  {
   "cell_type": "code",
   "execution_count": null,
   "id": "8f7d0012",
   "metadata": {},
   "outputs": [
    {
     "name": "stdout",
     "output_type": "stream",
     "text": [
      "the path Code is a directory\n"
     ]
    }
   ],
   "source": [
    "# Checking if the path is file or directory \n",
    "\n",
    "import os \n",
    "# path = 'myfile2.txt'   # --------> file \n",
    "path = 'Code'            # --------> directory \n",
    "if os.path.isfile(path):\n",
    "    print(f\"the path {path} is a file\")\n",
    "elif os.path.isdir(path):\n",
    "    print(f\"the path {path} is a directory\")\n",
    "else: \n",
    "    print(\"the path {path} is neither a file or directory\")"
   ]
  },
  {
   "cell_type": "code",
   "execution_count": null,
   "id": "2e31fdd1",
   "metadata": {},
   "outputs": [
    {
     "name": "stdout",
     "output_type": "stream",
     "text": [
      "d:\\Kaif\\Notebook\\myfile2.txt\n"
     ]
    }
   ],
   "source": [
    "# Getting the absolute path \n",
    "\n",
    "import os\n",
    "relative_path = 'myfile2.txt' \n",
    "absolute_path =os.path.abspath(relative_path)\n",
    "print(absolute_path)"
   ]
  },
  {
   "cell_type": "code",
   "execution_count": null,
   "id": "46d96c8c",
   "metadata": {},
   "outputs": [],
   "source": [
    "# getting file name and extension separately \n",
    "# filename,txt = os.path.splitext(\"document.pdf\")\n",
    "\n"
   ]
  },
  {
   "cell_type": "markdown",
   "id": "8f7b2c5f",
   "metadata": {},
   "source": [
    "# Exception Handling "
   ]
  },
  {
   "cell_type": "code",
   "execution_count": null,
   "id": "2dba987e",
   "metadata": {},
   "outputs": [],
   "source": [
    "# Purpose --> Prevents a program from crashing when errors occurs during the execution \n",
    "# Mechanism -->Use try, except, else, finally \n",
    "\n",
    "# 1. Try : contain code that might raise an exception \n",
    "# 2. except : Handles exceptions occured in the try block \n",
    "# 3. else : executes if no exceptions occur in the try block \n",
    "# 4. finally : Always executes, regardless of exceptions "
   ]
  },
  {
   "cell_type": "code",
   "execution_count": null,
   "id": "23d03ad8",
   "metadata": {},
   "outputs": [],
   "source": [
    "# Some common error \n",
    "\n",
    "# NameError \n",
    "# ZeroDivisionError \n",
    "# FileNotFoundError \n",
    "# ValueError \n",
    "# TypeError \n",
    "# IndexError"
   ]
  },
  {
   "cell_type": "code",
   "execution_count": null,
   "id": "73abb479",
   "metadata": {},
   "outputs": [
    {
     "name": "stdout",
     "output_type": "stream",
     "text": [
      "NameError\n"
     ]
    }
   ],
   "source": [
    "# Example \n",
    "\n",
    "a = 10 \n",
    "try: \n",
    "    a=b \n",
    "except:\n",
    "    print('NameError: The variable is not assigned')"
   ]
  },
  {
   "cell_type": "code",
   "execution_count": 6,
   "id": "d1cb0952",
   "metadata": {},
   "outputs": [
    {
     "name": "stdout",
     "output_type": "stream",
     "text": [
      "name 'b' is not defined\n"
     ]
    }
   ],
   "source": [
    "# Another method for the above example \n",
    "\n",
    "a = 10 \n",
    "try: \n",
    "    a=b\n",
    "except NameError as e:\n",
    "    print(e)"
   ]
  },
  {
   "cell_type": "code",
   "execution_count": 7,
   "id": "89ee4046",
   "metadata": {},
   "outputs": [
    {
     "name": "stdout",
     "output_type": "stream",
     "text": [
      "division by zero\n",
      "Please enter the denominator greater than 0\n"
     ]
    }
   ],
   "source": [
    "# Example 2 \n",
    "\n",
    "numerator = 10 \n",
    "denominator = 0 \n",
    "try:\n",
    "    result = numerator/denominator\n",
    "except ZeroDivisionError as e:\n",
    "    print(e)\n",
    "    print('Please enter the denominator greater than 0')"
   ]
  },
  {
   "cell_type": "code",
   "execution_count": null,
   "id": "f9def136",
   "metadata": {},
   "outputs": [
    {
     "name": "stdout",
     "output_type": "stream",
     "text": [
      "name 'b' is not defined\n"
     ]
    }
   ],
   "source": [
    "# Handling two or more error that is known by the programmer \n",
    "\n",
    "numerator = 10 \n",
    "denominator = 2\n",
    "try:\n",
    "    result = numerator/denominator\n",
    "    a = b\n",
    "except ZeroDivisionError as e:\n",
    "    print(e)\n",
    "    print('Please enter the denominator greater than 0')\n",
    "except NameError as e:\n",
    "    print(e)\n",
    "\n",
    "\n",
    "\n"
   ]
  },
  {
   "cell_type": "code",
   "execution_count": null,
   "id": "119aa055",
   "metadata": {},
   "outputs": [
    {
     "name": "stdout",
     "output_type": "stream",
     "text": [
      "division by zero\n"
     ]
    }
   ],
   "source": [
    "# Handling two or more error that is not known by the programmer \n",
    "\n",
    "l = [12,23,34,45]\n",
    "try: \n",
    "    result = 12/0             \n",
    "    a = b\n",
    "    c = l[6]\n",
    "except Exception as e:       # Exception can be used for all types of error \n",
    "    print(e)\n",
    "\n",
    "# Note : Although the  code contains three error the program will only show the forst error because \"exception\" stops after findinbg the error \n"
   ]
  },
  {
   "cell_type": "code",
   "execution_count": null,
   "id": "83b0a636",
   "metadata": {},
   "outputs": [
    {
     "name": "stdout",
     "output_type": "stream",
     "text": [
      "division by zero\n",
      "name 'b' is not defined\n",
      "list index out of range\n",
      "unsupported operand type(s) for /: 'int' and 'str'\n",
      "[Errno 2] No such file or directory: 'abc.txt'\n"
     ]
    }
   ],
   "source": [
    "# In case: There are chances of more than one error try for indivdual error one at a time \n",
    "\n",
    "l = [12,23,34,45]\n",
    "try: \n",
    "    result = 12/0             \n",
    "except ZeroDivisionError as e:      \n",
    "    print(e)\n",
    "\n",
    "try:        \n",
    "    a = b\n",
    "except NameError as e:       \n",
    "    print(e)\n",
    "\n",
    "try:\n",
    "    c = l[6]\n",
    "except IndexError as e:\n",
    "    print(e)\n",
    "\n",
    "try: \n",
    "    w = 's'\n",
    "    b = 12/w\n",
    "    print(b)\n",
    "except TypeError as e:\n",
    "    print(e)\n",
    "\n",
    "try:\n",
    "    f = open('abc.txt','r')\n",
    "except FileNotFoundError as e:\n",
    "    print(e)\n",
    "\n",
    "\n"
   ]
  },
  {
   "cell_type": "code",
   "execution_count": null,
   "id": "2dcc325b",
   "metadata": {},
   "outputs": [
    {
     "name": "stdout",
     "output_type": "stream",
     "text": [
      "division by zero\n",
      "Execution Completed\n"
     ]
    }
   ],
   "source": [
    "# Else and finally in Exception Handling \n",
    "\n",
    "try:\n",
    "    result = 10/0\n",
    "except ZeroDivisionError as e:\n",
    "    print(e)\n",
    "\n",
    "else:                               # If there is an error in try block the else bock doesn't execute  \n",
    "    print('No error occured')\n",
    "\n",
    "finally:                            # Finally block always get executed \n",
    "    print('Execution Completed')"
   ]
  },
  {
   "cell_type": "code",
   "execution_count": null,
   "id": "415cdff0",
   "metadata": {},
   "outputs": [
    {
     "name": "stdout",
     "output_type": "stream",
     "text": [
      "No error occured\n",
      "Execution Completed\n"
     ]
    }
   ],
   "source": [
    "# Else and finally in Exception Handling(2)\n",
    "\n",
    "try:\n",
    "    result = 10/2\n",
    "except ZeroDivisionError as e:\n",
    "    print(e)\n",
    "\n",
    "else:                               # If there is no error in try block the else block get executed\n",
    "    print('No error occured')\n",
    "\n",
    "finally:                            # Finally block always get executed \n",
    "    print('Execution Completed')"
   ]
  },
  {
   "cell_type": "code",
   "execution_count": null,
   "id": "71c2bb95",
   "metadata": {},
   "outputs": [
    {
     "name": "stdout",
     "output_type": "stream",
     "text": [
      "That is not a valid number! \n"
     ]
    }
   ],
   "source": [
    "# Use Case of Else block \n",
    "\n",
    "try:\n",
    "    num = int(input('enter a number: '))\n",
    "    result = 10/num\n",
    "except ValueError:\n",
    "    print('That is not a valid number! ')\n",
    "except ZeroDivisionError:\n",
    "    print(\"You can't divide by zero\")\n",
    "except Exception as e:\n",
    "    print(e)\n",
    "else:\n",
    "    print(f'the result is{result}')"
   ]
  },
  {
   "cell_type": "code",
   "execution_count": 3,
   "id": "78f9c96c",
   "metadata": {},
   "outputs": [
    {
     "name": "stdout",
     "output_type": "stream",
     "text": [
      "\n",
      "What do you study \n",
      "This line is a part of with statement\n",
      "This text will be appended to the last of the file\n",
      "first line: Hi everyone!\n",
      "second line: This is a multiline text\n",
      "Third line: This is the data handling chapter\n",
      "\n",
      "from Finally block \n"
     ]
    }
   ],
   "source": [
    "# Use case of finally block \n",
    "\n",
    "try: \n",
    "    f = open('myfile.txt','r')\n",
    "    print(f.read())\n",
    "except FileNotFoundError:\n",
    "    print('invalid file name')\n",
    "finally: \n",
    "    f.close()\n",
    "    print('from Finally block ')\n"
   ]
  },
  {
   "cell_type": "code",
   "execution_count": 5,
   "id": "1f8cd2cf",
   "metadata": {},
   "outputs": [],
   "source": [
    "# User defined exception \n",
    "\n",
    "a = int(input('Enter your age '))\n",
    "if a < 18:\n",
    "    raise Exception (\"You are underage, cannot vote\")"
   ]
  },
  {
   "cell_type": "markdown",
   "id": "9f74ce1a",
   "metadata": {},
   "source": [
    "# Functional Programming "
   ]
  },
  {
   "cell_type": "code",
   "execution_count": null,
   "id": "07461214",
   "metadata": {},
   "outputs": [],
   "source": [
    "# Focuses on using functions as the primary building blocks \n",
    "# Key Principles : emphasizes immutability, pure functions and higher order function \n",
    "# Benifits : enhances code readability, maintaining and scalability "
   ]
  },
  {
   "cell_type": "code",
   "execution_count": null,
   "id": "24f13f81",
   "metadata": {},
   "outputs": [
    {
     "name": "stdout",
     "output_type": "stream",
     "text": [
      "mango\n",
      "apple\n"
     ]
    }
   ],
   "source": [
    "# Iterators ---->\n",
    "# Allows iteration over collections without loading all data into memory \n",
    "# Key Methods : itr() and next()\n",
    "# Advantage : efficiency, handles large datasets by processing one item at a time \n",
    "\n",
    "fruits = ['mango','apple','banana','orange','pineapple','watermelon','guava','kiwi']\n",
    "basket = iter(fruits)       # changes into iteration form \n",
    "print(next(basket))         # Prints one item at a time \n",
    "print(next(basket))       \n"
   ]
  },
  {
   "cell_type": "code",
   "execution_count": null,
   "id": "1120491c",
   "metadata": {},
   "outputs": [
    {
     "name": "stdout",
     "output_type": "stream",
     "text": [
      "orange\n"
     ]
    }
   ],
   "source": [
    "print(next(basket))           # Because once i have used next and executed it, now the next print the 3rd index instead of 2nd \n",
    "\n",
    "# Note: Once an iterator is exhausted you can't rewind it - you must create a new one \n",
    " "
   ]
  },
  {
   "cell_type": "code",
   "execution_count": null,
   "id": "0ac243d1",
   "metadata": {},
   "outputs": [
    {
     "name": "stdout",
     "output_type": "stream",
     "text": [
      "0 0\n",
      "1 1\n",
      "4 8\n"
     ]
    }
   ],
   "source": [
    "# Generator --->\n",
    "# Produce a sequence of result on the fly without storing them aall in memory \n",
    "# Key keyword : yeild \n",
    "# Benefit :  saves memory by generating values as needed \n",
    "\n",
    "def square_cube(limit):\n",
    "    x = 0 \n",
    "    while x<limit:\n",
    "        yield x*x\n",
    "        yield x*x*x\n",
    "        x+=1\n",
    "\n",
    "a = square_cube(5)\n",
    "print(next(a),next(a))\n",
    "print(next(a),next(a))\n",
    "print(next(a),next(a))"
   ]
  },
  {
   "cell_type": "code",
   "execution_count": 26,
   "id": "0acd8de2",
   "metadata": {},
   "outputs": [
    {
     "name": "stdout",
     "output_type": "stream",
     "text": [
      "[2, 4, 6, 8, 10, 12, 14]\n"
     ]
    }
   ],
   "source": [
    "# List Comprehension ---->\n",
    "# Create lists in a concise way using loop and conditional statements\n",
    "# Syntax : [expression for item in iterable if condition]\n",
    "# Advantage : Simplifies list creation and improves readability \n",
    "\n",
    "\n",
    "numbers = [1,2,3,4,5,6,7,8,9,10,11,12,13,14,15]\n",
    "evennumber = [x for x in numbers if x%2==0]\n",
    "print(evennumber)\n"
   ]
  },
  {
   "cell_type": "markdown",
   "id": "614d0e51",
   "metadata": {},
   "source": [
    "# Some other important functions "
   ]
  },
  {
   "cell_type": "code",
   "execution_count": null,
   "id": "e0747f02",
   "metadata": {},
   "outputs": [],
   "source": [
    "# Lambda functions --->\n",
    "# Define small, annoymous functions \n",
    "# Syntax : lambda arguments : expression\n",
    "# use case : often used for one time use or as arguments to higher-order functions \n"
   ]
  },
  {
   "cell_type": "code",
   "execution_count": 27,
   "id": "a83a4a55",
   "metadata": {},
   "outputs": [
    {
     "name": "stdout",
     "output_type": "stream",
     "text": [
      "30\n",
      "10\n"
     ]
    }
   ],
   "source": [
    "# Without lambda function \n",
    "\n",
    "def add(x,y):\n",
    "    return x+y\n",
    "def sub(x,y):\n",
    "    return x-y\n",
    "def mul(x,y):\n",
    "    return x*y\n",
    "def div(x,y):\n",
    "    return x/y\n",
    "\n",
    "print(add(10,20))\n",
    "print(sub(20,10))\n"
   ]
  },
  {
   "cell_type": "code",
   "execution_count": 31,
   "id": "1b59c534",
   "metadata": {},
   "outputs": [
    {
     "name": "stdout",
     "output_type": "stream",
     "text": [
      "90\n",
      "-10\n",
      "2000\n",
      "0.8\n"
     ]
    }
   ],
   "source": [
    "# With lambda function\n",
    "\n",
    "add = lambda x,y : x+y\n",
    "print(add(40,50))\n",
    "\n",
    "sub = lambda x,y : x-y\n",
    "print(sub(40,50))\n",
    "\n",
    "mul = lambda x,y : x*y\n",
    "print(mul(40,50))\n",
    "\n",
    "div = lambda x,y : x/y\n",
    "print(div(40,50))\n"
   ]
  },
  {
   "cell_type": "code",
   "execution_count": null,
   "id": "9bd090af",
   "metadata": {},
   "outputs": [],
   "source": [
    "# Enumerate --->\n",
    "# iterate over iterable while keeping track ofthe index\n",
    "# syntax : enumerate (iterable, start = 0)\n",
    "# Benefit : Conveniently pairs each item with it's index\n"
   ]
  },
  {
   "cell_type": "code",
   "execution_count": 33,
   "id": "75716d23",
   "metadata": {},
   "outputs": [
    {
     "name": "stdout",
     "output_type": "stream",
     "text": [
      "0 mango\n",
      "1 apple\n",
      "2 banana\n",
      "3 orange\n",
      "4 pineapple\n",
      "5 watermelon\n",
      "6 guava\n",
      "7 kiwi\n"
     ]
    }
   ],
   "source": [
    "# Without enumerate \n",
    "fruits = ['mango','apple','banana','orange','pineapple','watermelon','guava','kiwi']\n",
    "for i in range(len(fruits)):\n",
    "    print(i,fruits[i])"
   ]
  },
  {
   "cell_type": "code",
   "execution_count": null,
   "id": "d6d27de7",
   "metadata": {},
   "outputs": [
    {
     "name": "stdout",
     "output_type": "stream",
     "text": [
      "(1, 'mango')\n",
      "(2, 'apple')\n",
      "(3, 'banana')\n",
      "(4, 'orange')\n",
      "(5, 'pineapple')\n",
      "(6, 'watermelon')\n",
      "(7, 'guava')\n",
      "(8, 'kiwi')\n"
     ]
    }
   ],
   "source": [
    "# With enumerate \n",
    "\n",
    "fruits = ['mango','apple','banana','orange','pineapple','watermelon','guava','kiwi']\n",
    "for fruit in enumerate(fruits,start = 1):         # start can be used to give initial index (default = 0)\n",
    "    print(fruit)                                  # Return a tuple with index number and the value at that index \n"
   ]
  },
  {
   "cell_type": "code",
   "execution_count": 4,
   "id": "a26832a8",
   "metadata": {},
   "outputs": [
    {
     "name": "stdout",
     "output_type": "stream",
     "text": [
      "[('mango', 5), ('apple', 6), ('banana', 7), ('orange', 24), ('watermelon', 45)]\n",
      "[('mango', 12), ('apple', 33)]\n",
      "[('mango', 12, 5), ('apple', 33, 6)]\n"
     ]
    }
   ],
   "source": [
    "# Zip --->\n",
    "# pair elements from multiple iterables \n",
    "# syntax : zip(iterable,iterable2,............)\n",
    "# Use case : Useful for parallel iteration over multiple lists\n",
    "\n",
    "fruits = ['mango','apple','banana','orange','watermelon']\n",
    "size = [5,6,7,24,45,24,1]\n",
    "size2 =[12,33]\n",
    "print(list(zip(fruits,size)))\n",
    "print(list(zip(fruits,size2)))\n",
    "print(list(zip(fruits,size2,size)))\n"
   ]
  },
  {
   "cell_type": "code",
   "execution_count": 7,
   "id": "ef50fc25",
   "metadata": {},
   "outputs": [
    {
     "name": "stdout",
     "output_type": "stream",
     "text": [
      "[5, 10, 15, 20, 25, 30]\n"
     ]
    }
   ],
   "source": [
    "# Map --->\n",
    "# Apply a function to every item in an iterable\n",
    "# Syntax : map(function,iterable)\n",
    "# Advantage : Simplifies applying transformations across datasets\n",
    "\n",
    "a = [10,20,30,40,50,60]\n",
    "b = [5,10,15,20,25,30]\n",
    "\n",
    "def sub(x,y):\n",
    "    return x -y\n",
    "c = map(sub,a,b)\n",
    "print(list(c))"
   ]
  },
  {
   "cell_type": "code",
   "execution_count": 8,
   "id": "75a1e6aa",
   "metadata": {},
   "outputs": [
    {
     "name": "stdout",
     "output_type": "stream",
     "text": [
      "[11, 21, 31, 41, 51, 61]\n"
     ]
    }
   ],
   "source": [
    "a = [10,20,30,40,50,60]\n",
    "def incr(x):\n",
    "    return x+1\n",
    "c = map(incr,a)\n",
    "print(list(c))"
   ]
  },
  {
   "cell_type": "code",
   "execution_count": 13,
   "id": "0f8c4ec8",
   "metadata": {},
   "outputs": [
    {
     "name": "stdout",
     "output_type": "stream",
     "text": [
      "[5.0, 3.0, 9.0]\n"
     ]
    }
   ],
   "source": [
    "# Filter --->\n",
    "# Select elements from an iterable based on a condition\n",
    "# Syntax : filter(function,iterable)\n",
    "# Benefit : efficiently extracts subsets of data based on specific criteria\n",
    "\n",
    "import math \n",
    "a = [25,-16,9,81,-100]\n",
    "def square_root(n):\n",
    "    return math.sqrt(n)\n",
    "def is_positive(n):\n",
    "    if n>0:\n",
    "        return n\n",
    "c = map(square_root,filter(is_positive,a))\n",
    "print(list(c))"
   ]
  },
  {
   "cell_type": "markdown",
   "id": "011382f2",
   "metadata": {},
   "source": [
    "# Recursion "
   ]
  },
  {
   "cell_type": "code",
   "execution_count": null,
   "id": "07790e8e",
   "metadata": {},
   "outputs": [],
   "source": [
    "# Involves a function calling itself to solve a problem \n",
    "# Purpose : Break dowm comlex problems into simpler sub problems."
   ]
  },
  {
   "cell_type": "code",
   "execution_count": null,
   "id": "d975c105",
   "metadata": {},
   "outputs": [
    {
     "name": "stdout",
     "output_type": "stream",
     "text": [
      "5\n",
      "4\n",
      "3\n",
      "2\n",
      "1\n"
     ]
    }
   ],
   "source": [
    "# Without recursion \n",
    "\n",
    "def printnum5(num):\n",
    "    print(num)\n",
    "    printnum4(num-1)\n",
    "\n",
    "def printnum4(num):\n",
    "    print(num)\n",
    "    printnum3(num-1)\n",
    "\n",
    "def printnum3(num):\n",
    "    print(num)\n",
    "    printnum2(num-1)\n",
    "\n",
    "def printnum2(num):\n",
    "    print(num)\n",
    "    printnum1(num-1)\n",
    "\n",
    "def printnum1(num):\n",
    "    print(num)\n",
    "\n",
    "printnum5(5)"
   ]
  },
  {
   "cell_type": "code",
   "execution_count": 19,
   "id": "93726049",
   "metadata": {},
   "outputs": [
    {
     "name": "stdout",
     "output_type": "stream",
     "text": [
      "5\n",
      "4\n",
      "3\n",
      "2\n",
      "1\n"
     ]
    }
   ],
   "source": [
    "# With recursion \n",
    "\n",
    "def printnum5(num):\n",
    "    print(num)\n",
    "    if num ==1:\n",
    "        return\n",
    "    printnum5(num-1)\n",
    "printnum5(5)"
   ]
  },
  {
   "cell_type": "code",
   "execution_count": 14,
   "id": "b5f52dde",
   "metadata": {},
   "outputs": [
    {
     "name": "stdout",
     "output_type": "stream",
     "text": [
      "120\n",
      "\n",
      "6\n",
      "24\n",
      "120\n",
      "\n",
      "1024\n",
      "\n",
      "[0, 1, 1, 2, 3, 5, 8, 13, 21, 34, 55, 89]\n",
      "\n",
      "5\n"
     ]
    }
   ],
   "source": [
    "# Use Case : Factorial of a number using recursion\n",
    "\n",
    "def factorial(n):\n",
    "    if n ==1:\n",
    "        return 1\n",
    "    smallans = factorial(n-1)\n",
    "    ans = n * smallans\n",
    "    return ans\n",
    "print(factorial(5))\n",
    "print()\n",
    "\n",
    "# Use case : Factorial of a number using recursion\n",
    "\n",
    "def fact(no):\n",
    "    if no == 1 or no==0:\n",
    "        return 1\n",
    "    else:\n",
    "        return no*fact(no-1)\n",
    "print(fact(3))\n",
    "print(fact(4))\n",
    "print(fact(5))\n",
    "print()\n",
    "\n",
    "# Use case : Finding 2^n for any n using recursion \n",
    "\n",
    "def exponent(number):\n",
    "    if number == 1:\n",
    "        return 2               # 2^1 = 2 or 2^0 = 1\n",
    "    else:\n",
    "        return 2*exponent(number-1) \n",
    "print(exponent(10))\n",
    "print()\n",
    "\n",
    "# Use case : Fibonacci Series with iteration \n",
    "\n",
    "a = 0\n",
    "b = 1 \n",
    "series = [0,1]\n",
    "limit = 10 \n",
    "for i in range(limit):\n",
    "    b = series[i] + series[i+1]\n",
    "    series.append(b)\n",
    "print(series)\n",
    "print()\n",
    "\n",
    "# Use Case : Fibonacci series with recursion \n",
    "\n",
    "def fibonacci(m):\n",
    "    if (m == 0) or (m==1):\n",
    "        return 1\n",
    "    last = fibonacci(m-1)\n",
    "    secondlast = fibonacci(m-2)\n",
    "    ans = last + secondlast\n",
    "    return ans \n",
    "print(fibonacci(4))   \n"
   ]
  },
  {
   "cell_type": "code",
   "execution_count": null,
   "id": "ccff2115",
   "metadata": {},
   "outputs": [],
   "source": [
    "# Error in recursion ---> maximum depth exceeded\n",
    "# make sure that recursion stops somewhere and don't keep on going till infininty ---> We add base case \n",
    "\n",
    "# Recursion principle based on PMI(Principle of Mathematical Induction) :\n",
    "# PMI : Used to prove some fact \n",
    "# eg : f(x) = tree for all n\n",
    "# Using PMI, We can break this problem in 3 Steps.\n",
    "#        Step1 - Prove f(0) or f(1) is true \n",
    "#        Step2 - Assume f(k) is true - Induction hypothesis \n",
    "#        Step3 - Using step2, i.e, f(k) is true * prove that f(k) is true  "
   ]
  },
  {
   "cell_type": "markdown",
   "id": "2d6b437d",
   "metadata": {},
   "source": [
    "# Binary Search "
   ]
  },
  {
   "cell_type": "code",
   "execution_count": null,
   "id": "e828a5ab",
   "metadata": {},
   "outputs": [],
   "source": [
    "# Efficient algorithm used to find the position of a target element in a sorted way.\n",
    "# Works on - divide and conquer "
   ]
  },
  {
   "cell_type": "code",
   "execution_count": 17,
   "id": "66022691",
   "metadata": {},
   "outputs": [
    {
     "name": "stdout",
     "output_type": "stream",
     "text": [
      "True\n",
      "0.0007460117340087891\n"
     ]
    }
   ],
   "source": [
    "# Obvious search (Without binary search)\n",
    "\n",
    "def obvious_search(l : list,k: int ):\n",
    "     for x in l:\n",
    "          if (x == k):\n",
    "               return True \n",
    "     return False\n",
    "\n",
    "import time \n",
    "l = list(range(10000))\n",
    "beginningTime = time.time()\n",
    "print(obvious_search(l,999))\n",
    "endtime = time.time()\n",
    "print(endtime - beginningTime)\n",
    "\n",
    "          "
   ]
  },
  {
   "cell_type": "code",
   "execution_count": 10,
   "id": "fa813184",
   "metadata": {},
   "outputs": [
    {
     "name": "stdout",
     "output_type": "stream",
     "text": [
      "True\n",
      "0.0005145072937011719\n"
     ]
    }
   ],
   "source": [
    "# Binary search \n",
    "\n",
    "def binary_search(l:list, k:int):\n",
    "    begin = 0\n",
    "    end =len(l)-1\n",
    "    while (end-begin > 1):\n",
    "        mid = (begin + end) //2\n",
    "        if (l[mid] == k):\n",
    "            return True \n",
    "        elif (l[mid]> k):\n",
    "            end = mid-1\n",
    "        elif (l[mid]<k):\n",
    "            begin =mid +1\n",
    "    if(l[begin]==k) or (l[end]==k):\n",
    "        return True\n",
    "    else:\n",
    "        return False \n",
    "    \n",
    "import time \n",
    "l = list(range(10000))\n",
    "beginningTime = time.time()\n",
    "print(binary_search(l,999))\n",
    "endtime = time.time()\n",
    "print(endtime - beginningTime)\n",
    "        \n"
   ]
  },
  {
   "cell_type": "markdown",
   "id": "9044b0a8",
   "metadata": {},
   "source": [
    "# Object Oriented Programming (OPP)"
   ]
  },
  {
   "cell_type": "code",
   "execution_count": null,
   "id": "203f0f88",
   "metadata": {},
   "outputs": [],
   "source": [
    "# Classes : A blueprint for creating objects. It defines attributes(data) and methods(functions) to describe the behaviour of the objects \n",
    "# Objects : Instances of a class that hold specific data and can perform actions defined by the class."
   ]
  },
  {
   "cell_type": "code",
   "execution_count": 19,
   "id": "b8828344",
   "metadata": {},
   "outputs": [
    {
     "name": "stdout",
     "output_type": "stream",
     "text": [
      "Rohan 1\n",
      "Ayush None\n"
     ]
    }
   ],
   "source": [
    "class Student:\n",
    "    no =None \n",
    "    name = None \n",
    "s0 = Student()\n",
    "s0.no = 0\n",
    "s0.name = 'harry'\n",
    "\n",
    "s1 = Student()\n",
    "s1.no = 1\n",
    "s1.name = 'Rohan'\n",
    "\n",
    "s2 = Student()\n",
    "s2.name = 'Ayush'\n",
    "\n",
    "print(s1.name,s1.no)\n",
    "print(s2.name,s2.no)"
   ]
  },
  {
   "cell_type": "code",
   "execution_count": null,
   "id": "300ab7ce",
   "metadata": {},
   "outputs": [],
   "source": [
    "# Attribute : Variable that stores data restored to an object or class, they represent the properties or characteristics of an object. \n",
    "# Methods : Functions defined within a class that perform actions using the attributes.\n",
    "\n",
    "# __init__() Method : Initialize an object when it is created \n",
    "# Purpose : Automatically called when an object is instantiated\n",
    "#         : Sets initial values for instance atttributes "
   ]
  },
  {
   "cell_type": "code",
   "execution_count": 8,
   "id": "1b1cb55d",
   "metadata": {},
   "outputs": [
    {
     "name": "stdout",
     "output_type": "stream",
     "text": [
      "0 ayush 150\n",
      "pass\n",
      "fail\n"
     ]
    }
   ],
   "source": [
    "class student:\n",
    "    def __init__(self,roll,name,total):\n",
    "        self.roll = roll\n",
    "        self.name = name \n",
    "        self.total = total \n",
    "\n",
    "    def display(self):\n",
    "        print(self.roll,self.name,self.total)\n",
    "\n",
    "    def result(self):\n",
    "        if self.total >120:\n",
    "          print('pass')\n",
    "        else:\n",
    "          print('fail')\n",
    "s0 = student(0,'ayush',150)\n",
    "s0.display()\n",
    "s0.result()\n",
    "\n",
    "s1 = student(3,'Ananya',110)\n",
    "s1.result()\n",
    "\n",
    "\n"
   ]
  },
  {
   "cell_type": "code",
   "execution_count": null,
   "id": "685f4345",
   "metadata": {},
   "outputs": [],
   "source": [
    "# Inheritance ---> \n",
    "# Allows a child to inherit attributes/methods from a parent class\n",
    "# Parent class : Base class containing shared properties \n",
    "# Child class : Derived class that inherits from a parent class\n",
    "# Use Case : Promotes code reuse  and logical hierarchy [DRY]"
   ]
  },
  {
   "cell_type": "code",
   "execution_count": null,
   "id": "e88d3a6c",
   "metadata": {},
   "outputs": [
    {
     "name": "stdout",
     "output_type": "stream",
     "text": [
      "Rohit 23 250\n",
      "Hari 30 50000\n"
     ]
    }
   ],
   "source": [
    "# Without inheritance \n",
    "\n",
    "class STUDENT():\n",
    "    def __init__(self,name,age,marks):\n",
    "        self.name = name \n",
    "        self.age = age \n",
    "        self.marks = marks \n",
    "    def display(self):\n",
    "        print(self.name,self.age,self.marks)\n",
    "    \n",
    "class employee():\n",
    "    def __init__(self,name,age,salary):\n",
    "        self.name = name \n",
    "        self.age = age \n",
    "        self.salary = salary \n",
    "    def display(self):\n",
    "        print(self.name,self.age,self.salary)\n",
    "\n",
    "s = STUDENT('Rohit',23,250)\n",
    "s.display()\n",
    "\n",
    "e = employee('Hari',30,50000)\n",
    "e.display()\n",
    "\n"
   ]
  },
  {
   "cell_type": "code",
   "execution_count": 23,
   "id": "177afe86",
   "metadata": {},
   "outputs": [
    {
     "name": "stdout",
     "output_type": "stream",
     "text": [
      "akash 43 376\n",
      "Rakesh 45\n",
      "300000\n"
     ]
    }
   ],
   "source": [
    "class person():\n",
    "    def __init__(self,name,age):\n",
    "        self.name = name \n",
    "        self.age = age \n",
    "    def display(self):\n",
    "        print(self.name,self.age)\n",
    "\n",
    "class STUDENT(person):\n",
    "    def __init__(self,name,age,marks):\n",
    "        super(). __init__(name,age)\n",
    "        self.marks = marks \n",
    "    def display(self):\n",
    "        super.display()\n",
    "        print(self.marks)\n",
    "\n",
    "class employee(person):\n",
    "    def __init__(self,name,age,salary):\n",
    "        super(). __init__(name,age)\n",
    "        self.salary = salary \n",
    "    def display(self):\n",
    "        super().display()\n",
    "        print(self.salary)\n",
    "\n",
    "s1 = student('akash','43',376)\n",
    "s1.display()    \n",
    "e1 = employee('Rakesh',45,300000)\n",
    "e1.display()\n"
   ]
  },
  {
   "cell_type": "code",
   "execution_count": null,
   "id": "8ccd06e6",
   "metadata": {},
   "outputs": [],
   "source": [
    "# Method overiding --->\n",
    "# Replace/modify a parent class method in the child class\n",
    "# Key feature : Some method name and parameter as the parent "
   ]
  },
  {
   "cell_type": "code",
   "execution_count": null,
   "id": "7a211a9e",
   "metadata": {},
   "outputs": [
    {
     "name": "stdout",
     "output_type": "stream",
     "text": [
      "akash 43 376\n",
      "Rakesh 45 300000\n"
     ]
    }
   ],
   "source": [
    "class person():\n",
    "    def __init__(self,name,age):\n",
    "        self.name = name \n",
    "        self.age = age \n",
    "    def display(self):\n",
    "        print(self.name,self.age)\n",
    "\n",
    "class STUDENT(person):\n",
    "    def __init__(self,name,age,marks):\n",
    "        super(). __init__(name,age)\n",
    "        self.marks = marks \n",
    "    def display(self):\n",
    "        super.display()\n",
    "        print(self.marks)\n",
    "\n",
    "class employee(person):\n",
    "    def __init__(self,name,age,salary):\n",
    "        super(). __init__(name,age)\n",
    "        self.salary = salary \n",
    "    def display(self):\n",
    "        # super().display()\n",
    "        print(self.name,self.age,self.salary)   # Overide of name and age from parents class to child class\n",
    "\n",
    "s1 = student('akash','43',376)\n",
    "s1.display()    \n",
    "e1 = employee('Rakesh',45,300000)\n",
    "e1.display()"
   ]
  },
  {
   "cell_type": "code",
   "execution_count": 12,
   "id": "2284bcc8",
   "metadata": {},
   "outputs": [
    {
     "name": "stdout",
     "output_type": "stream",
     "text": [
      "dog bark\n",
      "\n",
      "cat purrs\n",
      "\n",
      "lion roars\n",
      "Animal makes a sound \n"
     ]
    }
   ],
   "source": [
    "# Concept of Inheritance \n",
    "\n",
    "class animal():                         \n",
    "    def speak(self):\n",
    "        print(\"Animal makes a sound \")\n",
    "\n",
    "class dog(animal):                     # Inherits animals and overrides speak()        \n",
    "    def speak(self):\n",
    "        print(\"dog bark\")\n",
    "\n",
    "class cat():                           # No inheritance rather new method named sound()\n",
    "    def sound(self):\n",
    "        print(\"cat purrs\")\n",
    "\n",
    "class lion(animal):                    # Inhertance of speak() method and addtion of new method named sound()\n",
    "    def sound(self):\n",
    "        print(\"lion roars\")\n",
    "\n",
    "dog = dog()\n",
    "dog.speak()\n",
    "print()\n",
    "cat = cat()\n",
    "cat.sound()\n",
    "# cat.speak() won't work because it is not inherited from the parent class here animal\n",
    "print()\n",
    "lion = lion()\n",
    "lion.sound()\n",
    "lion.speak()\n"
   ]
  },
  {
   "cell_type": "code",
   "execution_count": null,
   "id": "09a230f4",
   "metadata": {},
   "outputs": [],
   "source": [
    "# Data Hiding ---> \n",
    "# Restrict direct access to class attributes using double underscore(__)"
   ]
  },
  {
   "cell_type": "code",
   "execution_count": 21,
   "id": "8032ff5a",
   "metadata": {},
   "outputs": [
    {
     "name": "stdout",
     "output_type": "stream",
     "text": [
      "1500\n",
      "400\n"
     ]
    }
   ],
   "source": [
    "# Creating a data hidden atrribute\n",
    "\n",
    "class bankaccount:\n",
    "    def __init__(self,balance):\n",
    "        self.__balance = balance   # Private attribute\n",
    "        self.balance = balance     # Normal attributes\n",
    "    def deposit(self,amount):\n",
    "        if amount>0:\n",
    "            self.__balance +=amount \n",
    "    def get_balance(self):\n",
    "        return self.__balance      # Can only be returned inside the class \n",
    "\n",
    "    def credit(self,amount):\n",
    "        if amount>0:\n",
    "            self.balance -= amount \n",
    "account = bankaccount(1000)\n",
    "account.deposit(500)\n",
    "print(account.get_balance())\n",
    "# print(account.__balance)        # won't work because private attributes can only be returned inside the class\n",
    "account.credit(600)\n",
    "print(account.balance)\n"
   ]
  },
  {
   "cell_type": "markdown",
   "id": "f781bbc1",
   "metadata": {},
   "source": [
    "# Numpy \n"
   ]
  },
  {
   "cell_type": "code",
   "execution_count": 24,
   "id": "f468d060",
   "metadata": {},
   "outputs": [],
   "source": [
    "# Numerical python\n",
    "# open-source python library\n",
    "# Used for numerical and scientific computing \n",
    "# Provides support for creating and manipulating large, multidimensional (ndarray) arrays and matrices \n",
    "# Use case : Data science and ML - Essential for preprocessing data, implementing algorithms, and performing matrix operations in machine learning pipelines.\n"
   ]
  },
  {
   "cell_type": "code",
   "execution_count": null,
   "id": "341d2b09",
   "metadata": {},
   "outputs": [
    {
     "name": "stdout",
     "output_type": "stream",
     "text": [
      "[1 2 3]\n"
     ]
    }
   ],
   "source": [
    "import numpy as np\n",
    "a = np.array([1,2,3])\n",
    "print(a)"
   ]
  },
  {
   "cell_type": "code",
   "execution_count": null,
   "id": "73928540",
   "metadata": {},
   "outputs": [
    {
     "name": "stdout",
     "output_type": "stream",
     "text": [
      "[42] \n",
      "\n",
      "[1, 2, 3, 4, 5] \n",
      "\n",
      "([1, 2, 3], [4, 5, 6]) \n",
      "\n",
      "[[[1, 2, 3]], [[4, 5, 6]], [[1, 2, 3]], [[4, 5, 6]]] \n",
      "\n",
      "[42] \n",
      "\n",
      "[1 2 3 4 5] \n",
      "\n",
      "[[1 2 3]\n",
      " [4 5 6]] \n",
      "\n",
      "[[[1 2 3]]\n",
      "\n",
      " [[4 5 6]]\n",
      "\n",
      " [[1 2 3]]\n",
      "\n",
      " [[4 5 6]]] \n",
      "\n"
     ]
    }
   ],
   "source": [
    "a = [42]                                       # Point \n",
    "b = [1,2,3,4,5]                                # 1-D List \n",
    "c = [1,2,3],[4,5,6]                            # 2-D List \n",
    "d = [[[1,2,3]],[[4,5,6]],[[1,2,3]],[[4,5,6]]]  # 3-D List \n",
    "\n",
    "print(a,'\\n')\n",
    "print(b,'\\n')\n",
    "print(c,'\\n')\n",
    "print(d,'\\n')\n",
    "\n",
    "import numpy as np\n",
    "a = np.array(a)\n",
    "b = np.array(b)\n",
    "c = np.array(c)\n",
    "d = np.array(d)\n",
    "\n",
    "print(a,a.ndim,'\\n')                           # .ndim is used to check the dimension of the array \n",
    "print(b,b.ndim,'\\n')\n",
    "print(c,c.ndim,'\\n')\n",
    "print(d,d.ndim,'\\n')\n"
   ]
  },
  {
   "cell_type": "code",
   "execution_count": 2,
   "id": "ba5b07c2",
   "metadata": {},
   "outputs": [
    {
     "name": "stdout",
     "output_type": "stream",
     "text": [
      "[4 6]\n"
     ]
    }
   ],
   "source": [
    "# Element wise addition using numpy \n",
    "\n",
    "import numpy as np\n",
    "\n",
    "a = np.array([1,2])\n",
    "b = np.array([3,4])\n",
    "print(a+b)"
   ]
  },
  {
   "cell_type": "code",
   "execution_count": 3,
   "id": "d782c39a",
   "metadata": {},
   "outputs": [
    {
     "name": "stdout",
     "output_type": "stream",
     "text": [
      "20.0\n",
      "8.16496580927726\n"
     ]
    }
   ],
   "source": [
    "# Mean and Standard deviation usign Numpy \n",
    "\n",
    "import numpy as np \n",
    "\n",
    "data = np.array([10,20,30])\n",
    "print(np.mean(data))\n",
    "print(np.std(data))"
   ]
  },
  {
   "cell_type": "code",
   "execution_count": 8,
   "id": "717efa12",
   "metadata": {},
   "outputs": [
    {
     "name": "stdout",
     "output_type": "stream",
     "text": [
      "[[19 22]\n",
      " [43 50]]\n"
     ]
    }
   ],
   "source": [
    "# Matrix Multiplication using Numpy \n",
    "\n",
    "import numpy as np\n",
    "\n",
    "a = np.array([[1,2],[3,4]])\n",
    "b = np.array([[5,6],[7,8]])\n",
    "result = np.dot(a,b)\n",
    "print(result)"
   ]
  },
  {
   "cell_type": "markdown",
   "id": "27845aac",
   "metadata": {},
   "source": [
    "# Pandas"
   ]
  },
  {
   "cell_type": "code",
   "execution_count": null,
   "id": "2de4294a",
   "metadata": {},
   "outputs": [],
   "source": [
    "# Open Source python library designed for data manipulation and analysis\n",
    "# Provide high performance tools for working with structured data(table) or time series data.\n",
    "# Name Panda is derived from panel data and python Data analysis, created by Wes Mckinney \n",
    "\n",
    "\n",
    "# Series : A one dimensional labeled array\n",
    "# Data frame : A two dimensional table with rows and columns,similar to spreadsheet or SQL table."
   ]
  },
  {
   "cell_type": "code",
   "execution_count": 6,
   "id": "a66fb7f1",
   "metadata": {},
   "outputs": [
    {
     "name": "stdout",
     "output_type": "stream",
     "text": [
      "41542\n"
     ]
    }
   ],
   "source": [
    "# Without Pandas \n",
    "\n",
    "f = open('D:/business-financial-data-march-2025-quarter-csv.csv','r')\n",
    "values = f.readlines()[1:]\n",
    "max = 0\n",
    "for record in values:\n",
    "    fields = record.split(',')\n",
    "    if int(fields[2])> max :\n",
    "        max = int(fields[2])\n",
    "print(max)\n",
    "           "
   ]
  },
  {
   "cell_type": "code",
   "execution_count": 7,
   "id": "fc1e0f5b",
   "metadata": {},
   "outputs": [
    {
     "name": "stdout",
     "output_type": "stream",
     "text": [
      "     Series_reference   Period  Data_value                         Subject\n",
      "0       BDCQ.SF1AA2CA  2016.06        1116  Business Data Collection - BDC\n",
      "1       BDCQ.SF1AA2CA  2016.09        1070  Business Data Collection - BDC\n",
      "2       BDCQ.SF1AA2CA  2016.12        1054  Business Data Collection - BDC\n",
      "3       BDCQ.SF1AA2CA  2017.03        1010  Business Data Collection - BDC\n",
      "4       BDCQ.SF1AA2CA  2017.06        1233  Business Data Collection - BDC\n",
      "...               ...      ...         ...                             ...\n",
      "8590     BDCQ.SF8RSCA  2024.03         631  Business Data Collection - BDC\n",
      "8591     BDCQ.SF8RSCA  2024.06         542  Business Data Collection - BDC\n",
      "8592     BDCQ.SF8RSCA  2024.09         612  Business Data Collection - BDC\n",
      "8593     BDCQ.SF8RSCA  2024.12         644  Business Data Collection - BDC\n",
      "8594     BDCQ.SF8RSCA  2025.03         700  Business Data Collection - BDC\n",
      "\n",
      "[8595 rows x 4 columns]\n",
      "\n"
     ]
    }
   ],
   "source": [
    "# With Pandas \n",
    "\n",
    "import pandas as pd\n",
    "scores = pd.read_csv('D:/business-financial-data-march-2025-quarter-csv.csv')\n",
    "print(scores)                             # Print complete csv file \n",
    "print()\n"
   ]
  },
  {
   "cell_type": "code",
   "execution_count": 8,
   "id": "0ba1c19b",
   "metadata": {},
   "outputs": [
    {
     "name": "stdout",
     "output_type": "stream",
     "text": [
      "41542\n",
      "\n",
      "0\n",
      "\n",
      "5353.5389179755675\n",
      "\n",
      "46013667\n",
      "\n",
      "(8595, 4)\n",
      "\n",
      "2451        0\n",
      "2452        0\n",
      "2416        0\n",
      "2448        0\n",
      "2449        0\n",
      "        ...  \n",
      "2086    39753\n",
      "2082    40384\n",
      "2190    40384\n",
      "2186    41542\n",
      "2078    41542\n",
      "Name: Data_value, Length: 8595, dtype: int64\n",
      "\n",
      "2186    41542\n",
      "2078    41542\n",
      "2190    40384\n",
      "2082    40384\n",
      "2086    39753\n",
      "        ...  \n",
      "2271        0\n",
      "2449        0\n",
      "2270        0\n",
      "2269        0\n",
      "2268        0\n",
      "Name: Data_value, Length: 8595, dtype: int64\n",
      "\n"
     ]
    }
   ],
   "source": [
    "# Some other functions of the pandas library \n",
    "\n",
    "import pandas as pd\n",
    "scores = pd.read_csv('D:/business-financial-data-march-2025-quarter-csv.csv')\n",
    "\n",
    "print(scores['Data_value'].max())                  # Finds the max in that csv file \n",
    "print()\n",
    "print(scores['Data_value'].min())                  # Finds the min of the given column of csv file \n",
    "print()\n",
    "print(scores['Data_value'].mean())                 # Finds the mean of the given column of csv file \n",
    "print()\n",
    "print(scores['Data_value'].sum())                  # Finds the sum of the given column of csv file \n",
    "print()\n",
    "print(scores.shape)                                # prints the rows and column of that file \n",
    "print()             \n",
    "print(scores['Data_value'].sort_values())          # sort the complete column in ascending order \n",
    "print()\n",
    "print(scores['Data_value'].sort_values(ascending = False))          # sort the complete column in ascending order \n",
    "print()\n"
   ]
  },
  {
   "cell_type": "code",
   "execution_count": 9,
   "id": "b174fb45",
   "metadata": {},
   "outputs": [
    {
     "name": "stdout",
     "output_type": "stream",
     "text": [
      "<class 'pandas.core.frame.DataFrame'>\n",
      "<class 'pandas.core.series.Series'>\n"
     ]
    }
   ],
   "source": [
    "# Type of data \n",
    "\n",
    "# 1. Data Frame ---> 2-D\n",
    "import pandas as pd\n",
    "scores = pd.read_csv('D:/business-financial-data-march-2025-quarter-csv.csv')\n",
    "print(type(scores))\n",
    "\n",
    "# 2. Series ---> 1-D\n",
    "print(type(scores['Data_value']))"
   ]
  },
  {
   "cell_type": "code",
   "execution_count": 18,
   "id": "36749521",
   "metadata": {},
   "outputs": [
    {
     "name": "stdout",
     "output_type": "stream",
     "text": [
      "  Series_reference   Period  Data_value                         Subject  ID\n",
      "0    BDCQ.SF1AA2CA  2016.06        1116  Business Data Collection - BDC   1\n",
      "1    BDCQ.SF1AA2CA  2016.09        1070  Business Data Collection - BDC   2\n",
      "2    BDCQ.SF1AA2CA  2016.12        1054  Business Data Collection - BDC   3\n",
      "3    BDCQ.SF1AA2CA  2017.03        1010  Business Data Collection - BDC   4\n",
      "4    BDCQ.SF1AA2CA  2017.06        1233  Business Data Collection - BDC   5\n",
      "\n",
      "  Series_reference   Period  Data_value                         Subject  ID\n",
      "0    BDCQ.SF1AA2CA  2016.06        1116  Business Data Collection - BDC   1\n",
      "1    BDCQ.SF1AA2CA  2016.09        1070  Business Data Collection - BDC   2\n",
      "2    BDCQ.SF1AA2CA  2016.12        1054  Business Data Collection - BDC   3\n",
      "3    BDCQ.SF1AA2CA  2017.03        1010  Business Data Collection - BDC   4\n",
      "4    BDCQ.SF1AA2CA  2017.06        1233  Business Data Collection - BDC   5\n"
     ]
    }
   ],
   "source": [
    "# Head Method -> Program to print the first 5 rows of the table \n",
    "\n",
    "import pandas as pd\n",
    "scores = pd.read_csv('D:/business-financial-data-march-2025-quarter-csv.csv')\n",
    "print(scores.head())\n",
    "print ()\n",
    "\n",
    "# Tail Method -> Program to print the last 5 rows of the table \n",
    "\n",
    "print(scores.head())\n",
    " "
   ]
  },
  {
   "cell_type": "code",
   "execution_count": 19,
   "id": "ea4e7329",
   "metadata": {},
   "outputs": [
    {
     "name": "stdout",
     "output_type": "stream",
     "text": [
      "     Series_reference   Period  Data_value                         Subject  \\\n",
      "2344    BDCQ.SF1GH1CT  2017.06           0  Business Data Collection - BDC   \n",
      "\n",
      "        ID  \n",
      "2344  2345  \n"
     ]
    }
   ],
   "source": [
    "# Program to extract data of a single row \n",
    "\n",
    "import pandas as pd \n",
    "scores = pd.read_csv('D:/business-financial-data-march-2025-quarter-csv.csv')\n",
    "print(scores[scores['ID']==2345])"
   ]
  },
  {
   "cell_type": "code",
   "execution_count": null,
   "id": "349b1bd4",
   "metadata": {},
   "outputs": [
    {
     "name": "stdout",
     "output_type": "stream",
     "text": [
      "41542\n",
      "39753\n",
      "     Series_reference   Period  Data_value                         Subject  \\\n",
      "2078    BDCQ.SF1FF1CA  2022.12       41542  Business Data Collection - BDC   \n",
      "2082    BDCQ.SF1FF1CA  2023.12       40384  Business Data Collection - BDC   \n",
      "2186     BDCQ.SF1FFCA  2022.12       41542  Business Data Collection - BDC   \n",
      "2190     BDCQ.SF1FFCA  2023.12       40384  Business Data Collection - BDC   \n",
      "\n",
      "        ID GENDER  \n",
      "2078  2079      M  \n",
      "2082  2083      M  \n",
      "2186  2187      M  \n",
      "2190  2191      M  \n",
      "     Series_reference   Period  Data_value                         Subject  \\\n",
      "2077    BDCQ.SF1FF1CA  2022.09       38903  Business Data Collection - BDC   \n",
      "2080    BDCQ.SF1FF1CA  2023.06       38023  Business Data Collection - BDC   \n",
      "2081    BDCQ.SF1FF1CA  2023.09       38654  Business Data Collection - BDC   \n",
      "2086    BDCQ.SF1FF1CA  2024.12       39753  Business Data Collection - BDC   \n",
      "2113    BDCQ.SF1FF1CS  2022.09       38537  Business Data Collection - BDC   \n",
      "2114    BDCQ.SF1FF1CS  2022.12       39151  Business Data Collection - BDC   \n",
      "2115    BDCQ.SF1FF1CS  2023.03       38689  Business Data Collection - BDC   \n",
      "2116    BDCQ.SF1FF1CS  2023.06       38473  Business Data Collection - BDC   \n",
      "2117    BDCQ.SF1FF1CS  2023.09       38309  Business Data Collection - BDC   \n",
      "2118    BDCQ.SF1FF1CS  2023.12       38104  Business Data Collection - BDC   \n",
      "2119    BDCQ.SF1FF1CS  2024.03       38120  Business Data Collection - BDC   \n",
      "2123    BDCQ.SF1FF1CS  2025.03       38784  Business Data Collection - BDC   \n",
      "2149    BDCQ.SF1FF1CT  2022.09       38488  Business Data Collection - BDC   \n",
      "2150    BDCQ.SF1FF1CT  2022.12       38814  Business Data Collection - BDC   \n",
      "2151    BDCQ.SF1FF1CT  2023.03       38617  Business Data Collection - BDC   \n",
      "2152    BDCQ.SF1FF1CT  2023.06       38326  Business Data Collection - BDC   \n",
      "2153    BDCQ.SF1FF1CT  2023.09       38197  Business Data Collection - BDC   \n",
      "2154    BDCQ.SF1FF1CT  2023.12       38194  Business Data Collection - BDC   \n",
      "2155    BDCQ.SF1FF1CT  2024.03       38031  Business Data Collection - BDC   \n",
      "2159    BDCQ.SF1FF1CT  2025.03       38676  Business Data Collection - BDC   \n",
      "2185     BDCQ.SF1FFCA  2022.09       38903  Business Data Collection - BDC   \n",
      "2188     BDCQ.SF1FFCA  2023.06       38023  Business Data Collection - BDC   \n",
      "2189     BDCQ.SF1FFCA  2023.09       38654  Business Data Collection - BDC   \n",
      "2194     BDCQ.SF1FFCA  2024.12       39753  Business Data Collection - BDC   \n",
      "2221     BDCQ.SF1FFCS  2022.09       38537  Business Data Collection - BDC   \n",
      "2222     BDCQ.SF1FFCS  2022.12       39151  Business Data Collection - BDC   \n",
      "2223     BDCQ.SF1FFCS  2023.03       38689  Business Data Collection - BDC   \n",
      "2224     BDCQ.SF1FFCS  2023.06       38473  Business Data Collection - BDC   \n",
      "2225     BDCQ.SF1FFCS  2023.09       38309  Business Data Collection - BDC   \n",
      "2226     BDCQ.SF1FFCS  2023.12       38104  Business Data Collection - BDC   \n",
      "2227     BDCQ.SF1FFCS  2024.03       38120  Business Data Collection - BDC   \n",
      "2231     BDCQ.SF1FFCS  2025.03       38784  Business Data Collection - BDC   \n",
      "2257     BDCQ.SF1FFCT  2022.09       38488  Business Data Collection - BDC   \n",
      "2258     BDCQ.SF1FFCT  2022.12       38814  Business Data Collection - BDC   \n",
      "2259     BDCQ.SF1FFCT  2023.03       38617  Business Data Collection - BDC   \n",
      "2260     BDCQ.SF1FFCT  2023.06       38326  Business Data Collection - BDC   \n",
      "2261     BDCQ.SF1FFCT  2023.09       38197  Business Data Collection - BDC   \n",
      "2262     BDCQ.SF1FFCT  2023.12       38194  Business Data Collection - BDC   \n",
      "2263     BDCQ.SF1FFCT  2024.03       38031  Business Data Collection - BDC   \n",
      "2267     BDCQ.SF1FFCT  2025.03       38676  Business Data Collection - BDC   \n",
      "\n",
      "        ID GENDER  \n",
      "2077  2078      F  \n",
      "2080  2081      F  \n",
      "2081  2082      F  \n",
      "2086  2087      F  \n",
      "2113  2114      F  \n",
      "2114  2115      M  \n",
      "2115  2116      M  \n",
      "2116  2117      F  \n",
      "2117  2118      F  \n",
      "2118  2119      M  \n",
      "2119  2120      M  \n",
      "2123  2124      F  \n",
      "2149  2150      F  \n",
      "2150  2151      M  \n",
      "2151  2152      M  \n",
      "2152  2153      F  \n",
      "2153  2154      F  \n",
      "2154  2155      M  \n",
      "2155  2156      M  \n",
      "2159  2160      F  \n",
      "2185  2186      F  \n",
      "2188  2189      F  \n",
      "2189  2190      F  \n",
      "2194  2195      F  \n",
      "2221  2222      F  \n",
      "2222  2223      M  \n",
      "2223  2224      M  \n",
      "2224  2225      F  \n",
      "2225  2226      F  \n",
      "2226  2227      M  \n",
      "2227  2228      M  \n",
      "2231  2232      F  \n",
      "2257  2258      F  \n",
      "2258  2259      M  \n",
      "2259  2260      M  \n",
      "2260  2261      F  \n",
      "2261  2262      F  \n",
      "2262  2263      M  \n",
      "2263  2264      M  \n",
      "2267  2268      F  \n"
     ]
    }
   ],
   "source": [
    "# Filtering \n",
    "# Based on the gender -->\n",
    "\n",
    "import pandas as pd\n",
    "scores = pd.read_csv('D:/business-financial-data-march-2025-quarter-csv.csv')\n",
    "print(scores[scores['GENDER']== 'M']['Data_value'].max())          # Max of gender female \n",
    "print(scores[scores['GENDER']== 'F']['Data_value'].max())          # max of gender male \n",
    "\n",
    "\n",
    "# Based on the Data_value \n",
    "\n",
    "value = pd.read_csv('D:/business-financial-data-march-2025-quarter-csv.csv')\n",
    "print(value[value['Data_value']>40000])                          # greater than 40000\n",
    "print()                          \n",
    "print(value[value['Data_value'].between(38000,40000)])           # less than 40000 and greater than 38000\n",
    "\n",
    "\n"
   ]
  },
  {
   "cell_type": "code",
   "execution_count": 6,
   "id": "d7c64f21",
   "metadata": {},
   "outputs": [
    {
     "name": "stdout",
     "output_type": "stream",
     "text": [
      "{'F': [1, 4, 5, 9, 10, 11, 13, 16, 17, 21, 22, 23, 25, 28, 29, 33, 34, 35, 37, 40, 41, 45, 46, 47, 49, 52, 53, 57, 58, 59, 61, 64, 65, 69, 70, 71, 73, 76, 77, 81, 82, 83, 85, 88, 89, 93, 94, 95, 97, 100, 101, 105, 106, 107, 109, 112, 113, 117, 118, 119, 121, 124, 125, 129, 130, 131, 133, 136, 137, 141, 142, 143, 145, 148, 149, 153, 154, 155, 157, 160, 161, 165, 166, 167, 169, 172, 173, 177, 178, 179, 181, 184, 185, 189, 190, 191, 193, 196, 197, 201, ...], 'M': [0, 2, 3, 6, 7, 8, 12, 14, 15, 18, 19, 20, 24, 26, 27, 30, 31, 32, 36, 38, 39, 42, 43, 44, 48, 50, 51, 54, 55, 56, 60, 62, 63, 66, 67, 68, 72, 74, 75, 78, 79, 80, 84, 86, 87, 90, 91, 92, 96, 98, 99, 102, 103, 104, 108, 110, 111, 114, 115, 116, 120, 122, 123, 126, 127, 128, 132, 134, 135, 138, 139, 140, 144, 146, 147, 150, 151, 152, 156, 158, 159, 162, 163, 164, 168, 170, 171, 174, 175, 176, 180, 182, 183, 186, 187, 188, 192, 194, 195, 198, ...]}\n"
     ]
    }
   ],
   "source": [
    "# Groupby method \n",
    "# used to group the data in the columns\n",
    "import pandas as pd\n",
    "scores = pd.read_csv('D:/business-financial-data-march-2025-quarter-csv.csv')\n",
    "print((scores.groupby('GENDER').groups))\n"
   ]
  },
  {
   "cell_type": "code",
   "execution_count": null,
   "id": "31f8f70b",
   "metadata": {},
   "outputs": [],
   "source": [
    "# Data cleaning and preprocessing :-\n",
    "\n",
    "# Handle missing values .fillna() or dropna()\n",
    "# Removes duplicates or irrelevant rows/columns \n",
    "# Transform column types (eg-string to integers)"
   ]
  },
  {
   "cell_type": "code",
   "execution_count": 11,
   "id": "f34d782d",
   "metadata": {},
   "outputs": [
    {
     "name": "stdout",
     "output_type": "stream",
     "text": [
      "     A    B  C\n",
      "0  1.0  5.0  1\n",
      "1  2.0  NaN  2\n",
      "2  NaN  NaN  3\n",
      "\n",
      "      A    B  C\n",
      "0  1.0  5.0  1\n",
      "1  2.0  0.0  2\n",
      "2  0.0  0.0  3\n"
     ]
    }
   ],
   "source": [
    "import pandas as pd \n",
    "import numpy as np \n",
    "df = pd.DataFrame({'A':[1,2,np.nan],'B':[5,np.nan,np.nan],'C':[1,2,3]}) # Creating a DataFrame\n",
    "print(df)\n",
    "\n",
    "df = df.fillna(0)\n",
    "print('\\n',df)"
   ]
  },
  {
   "cell_type": "markdown",
   "id": "9f821869",
   "metadata": {},
   "source": [
    "# Matplotlib "
   ]
  },
  {
   "cell_type": "code",
   "execution_count": null,
   "id": "bd4b7657",
   "metadata": {},
   "outputs": [],
   "source": [
    "# Python library for data visualization.\n",
    "# Wide range of line plots,barcharts,scatterplot, histogram,pie charts and 3D plots.\n",
    "# Highly customisable and integrates seamlessly with other python libraries like -\n",
    "# integration ---- numpy and pandas"
   ]
  },
  {
   "cell_type": "code",
   "execution_count": null,
   "id": "9d9023bd",
   "metadata": {},
   "outputs": [
    {
     "data": {
      "image/png": "[encoded data removed]",
      "text/plain": [
       "<Figure size 640x480 with 1 Axes>"
      ]
     },
     "metadata": {},
     "output_type": "display_data"
    }
   ],
   "source": [
    "# Scatterplot using Matplotlib\n",
    "\n",
    "import matplotlib.pyplot as plt\n",
    "import numpy as np \n",
    "x = np.array([5,4,6,36,85,7,3,9,11,32,12,22,19,25,3])\n",
    "y = np.array([53,54,5,35,64,25,25,64,29,34,67,23,52,25,8])\n",
    "plt.scatter(x,y)\n",
    "plt.show()"
   ]
  },
  {
   "cell_type": "code",
   "execution_count": 22,
   "id": "d1907ba2",
   "metadata": {},
   "outputs": [
    {
     "data": {
      "image/png": "[encoded data removed]",
      "text/plain": [
       "<Figure size 640x480 with 1 Axes>"
      ]
     },
     "metadata": {},
     "output_type": "display_data"
    }
   ],
   "source": [
    "# Bar Chart using Matplotlib\n",
    "\n",
    "import matplotlib.pyplot as plt\n",
    "import numpy as np\n",
    "\n",
    "x = np.array(['A','B','C','D'])\n",
    "y = np.array([3,7,2,6])\n",
    "plt.bar(x,y)\n",
    "plt.show()"
   ]
  },
  {
   "cell_type": "code",
   "execution_count": 23,
   "id": "cc4790ae",
   "metadata": {},
   "outputs": [
    {
     "data": {
      "image/png": "[encoded data removed]",
      "text/plain": [
       "<Figure size 640x480 with 1 Axes>"
      ]
     },
     "metadata": {},
     "output_type": "display_data"
    }
   ],
   "source": [
    "# Horizontal Bar Chart using Matplotlib\n",
    "\n",
    "import matplotlib.pyplot as plt\n",
    "import numpy as np\n",
    "\n",
    "x = np.array(['A','B','C','D'])\n",
    "y = np.array([3,7,2,6])\n",
    "plt.barh(x,y)\n",
    "plt.show()"
   ]
  },
  {
   "cell_type": "code",
   "execution_count": 24,
   "id": "659e6775",
   "metadata": {},
   "outputs": [
    {
     "data": {
      "image/png": "[encoded data removed]",
      "text/plain": [
       "<Figure size 640x480 with 1 Axes>"
      ]
     },
     "metadata": {},
     "output_type": "display_data"
    }
   ],
   "source": [
    "# Histogram using matplotlib \n",
    "\n",
    "import matplotlib.pyplot as plt\n",
    "import numpy as np\n",
    "x = np.random.normal(170,10,250)\n",
    "plt.hist(x)\n",
    "plt.show()"
   ]
  },
  {
   "cell_type": "code",
   "execution_count": 25,
   "id": "a801a2f0",
   "metadata": {},
   "outputs": [
    {
     "data": {
      "image/png": "[encoded data removed]",
      "text/plain": [
       "<Figure size 640x480 with 1 Axes>"
      ]
     },
     "metadata": {},
     "output_type": "display_data"
    }
   ],
   "source": [
    "# Pie chart using matplotlib\n",
    "\n",
    "import matplotlib.pyplot as plt\n",
    "import numpy as np\n",
    "y = np.array([35,25,15,45])\n",
    "label = ['apple','banana','cherry','mango']\n",
    "plt.pie(y,labels = label,startangle =90)\n",
    "plt.show()"
   ]
  },
  {
   "cell_type": "code",
   "execution_count": 34,
   "id": "eb86a761",
   "metadata": {},
   "outputs": [
    {
     "data": {
      "image/png": "[encoded data removed]",
      "text/plain": [
       "<Figure size 640x480 with 6 Axes>"
      ]
     },
     "metadata": {},
     "output_type": "display_data"
    }
   ],
   "source": [
    "# Subplot using matplotlib \n",
    "\n",
    "import matplotlib.pyplot as plt\n",
    "import numpy as np\n",
    "\n",
    "x = np.array([0,1,2,3])\n",
    "y = np.array([3,8,1,10])\n",
    "plt.subplot(2,3,1)\n",
    "plt.plot(x,y)\n",
    "\n",
    "x = np.array([0,1,2,3])\n",
    "y = np.array([10,20,31,40])\n",
    "plt.subplot(2,3,2)\n",
    "plt.plot(x,y)\n",
    "\n",
    "x = np.array([0,1,2,3])\n",
    "y = np.array([10,20,31,40])\n",
    "plt.subplot(2,3,3)\n",
    "plt.plot(x,y)\n",
    "\n",
    "x = np.array([0,1,2,3])\n",
    "y = np.array([10,20,31,40])\n",
    "plt.subplot(2,3,4)\n",
    "plt.plot(x,y)\n",
    "\n",
    "x = np.array([0,1,2,3])\n",
    "y = np.array([10,20,31,40])\n",
    "plt.subplot(2,3,5)\n",
    "plt.plot(x,y)\n",
    "\n",
    "x = np.array([0,1,2,3])\n",
    "y = np.array([10,20,31,40])\n",
    "plt.subplot(2,3,6)\n",
    "plt.plot(x,y)\n",
    "\n",
    "plt.show()"
   ]
  },
  {
   "cell_type": "markdown",
   "id": "a401c68f",
   "metadata": {},
   "source": [
    "# Week 7 to 12 Completed"
   ]
  }
 ],
 "metadata": {
  "kernelspec": {
   "display_name": "Python 3",
   "language": "python",
   "name": "python3"
  },
  "language_info": {
   "codemirror_mode": {
    "name": "ipython",
    "version": 3
   },
   "file_extension": ".py",
   "mimetype": "text/x-python",
   "name": "python",
   "nbconvert_exporter": "python",
   "pygments_lexer": "ipython3",
   "version": "3.13.3"
  }
 },
 "nbformat": 4,
 "nbformat_minor": 5
}
